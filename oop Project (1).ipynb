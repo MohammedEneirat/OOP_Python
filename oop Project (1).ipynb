{
 "cells": [
  {
   "cell_type": "code",
   "execution_count": 11,
   "id": "d0f3db0d",
   "metadata": {},
   "outputs": [
    {
     "name": "stdout",
     "output_type": "stream",
     "text": [
      "the runTime using timeit:  0.865847599983681\n",
      "the runTime using decorators:  0.8812191486358643\n"
     ]
    }
   ],
   "source": [
    "# Question 1 \n",
    "\n",
    "\n",
    "# using timeit here\n",
    "import timeit\n",
    "\n",
    "mycode = '''\n",
    "def waste_some_times(num_times):\n",
    "    for _ in range(num_times):\n",
    "        sum([i**2 for i in range(10000)])\n",
    "        \n",
    "waste_some_times(100)\n",
    "'''\n",
    "print(\"the runTime using timeit: \",timeit.timeit(stmt=mycode,\n",
    "                    number=1))\n",
    "\n",
    "#####################################################################\n",
    "\n",
    "#using decoraters here\n",
    "\n",
    "\n",
    "from time import time\n",
    "\n",
    "def test_speed(func):\n",
    "    def inner_func(*args,**kwargs):\n",
    "        start = time()\n",
    "        func(*args,**kwargs)\n",
    "        end = time()\n",
    "        print(\"the runTime using decorators: \",end - start)\n",
    "    return inner_func\n",
    "\n",
    "@test_speed\n",
    "def waste_some_time(num_times):\n",
    "    for _ in range(num_times):\n",
    "        sum([i**2 for i in range(10000)])\n",
    "\n",
    "waste_some_time(100)\n",
    "\n",
    "\n",
    "# we show that the time in two case is near \n",
    "# the time is differnt depend on the state of Network and other things"
   ]
  },
  {
   "cell_type": "code",
   "execution_count": 20,
   "id": "be25d19f",
   "metadata": {},
   "outputs": [
    {
     "name": "stdout",
     "output_type": "stream",
     "text": [
      "get these details about my university\n",
      "WELCOME TO PTUK (KADOORIE)\n",
      "we have 2 department in university\n",
      "these department : ['Engineering and Tecnology', 'arts']\n"
     ]
    }
   ],
   "source": [
    "# Question two\n",
    "\n",
    "class Department:\n",
    "    num=0\n",
    "    data=[]\n",
    "    def __init__(self,ID,name): #this is dandar method\n",
    "        self.ID=ID\n",
    "        self.name=name\n",
    "        Department.num+=1\n",
    "        Department.data.append(name)\n",
    "############################################################################## \n",
    "\n",
    "    @classmethod\n",
    "    def nameOfDepartment(cls): # class method\n",
    "        cls.welcome()\n",
    "        print(f\"we have {cls.num} department in university\")\n",
    "        print(\"these department :\",cls.data)\n",
    "        \n",
    "##############################################################################\n",
    "\n",
    "    @staticmethod\n",
    "    def welcome():  # static method\n",
    "        print(\"WELCOME TO PTUK (KADOORIE)\")\n",
    "\n",
    "##############################################################################\n",
    "        \n",
    "    def knowDetails(self):   # instance method\n",
    "        print(\"get these details about my university\")\n",
    "        Department.nameOfDepartment()\n",
    "        \n",
    "# here i make 2 object and call the instance method knowDetails\n",
    "        \n",
    "firstCollege = Department(1,\"Engineering and Tecnology\")\n",
    "secandCollege = Department(2,\"arts\")\n",
    "firstCollege.knowDetails()\n",
    "\n"
   ]
  },
  {
   "cell_type": "code",
   "execution_count": 26,
   "id": "6cf83781",
   "metadata": {},
   "outputs": [
    {
     "data": {
      "text/plain": [
       "'e'"
      ]
     },
     "execution_count": 26,
     "metadata": {},
     "output_type": "execute_result"
    }
   ],
   "source": [
    "# Question three\n",
    "\n",
    "def findNotRepet(s1):\n",
    "    s1=s1.lower()\n",
    "    numberOfChar={}\n",
    "    for e in s1:\n",
    "        if e in numberOfChar:\n",
    "            numberOfChar[e]+=1\n",
    "        else:\n",
    "            numberOfChar[e]=1\n",
    "    for e in numberOfChar:\n",
    "        if numberOfChar[e]==1:\n",
    "            return e\n",
    "    return \"no char not repeted\"\n",
    "\n",
    "findNotRepet(\"Name naMag\")\n",
    "    "
   ]
  }
 ],
 "metadata": {
  "kernelspec": {
   "display_name": "Python 3 (ipykernel)",
   "language": "python",
   "name": "python3"
  },
  "language_info": {
   "codemirror_mode": {
    "name": "ipython",
    "version": 3
   },
   "file_extension": ".py",
   "mimetype": "text/x-python",
   "name": "python",
   "nbconvert_exporter": "python",
   "pygments_lexer": "ipython3",
   "version": "3.10.9"
  }
 },
 "nbformat": 4,
 "nbformat_minor": 5
}
